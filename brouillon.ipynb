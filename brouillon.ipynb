{
 "cells": [
  {
   "cell_type": "code",
   "execution_count": 63,
   "metadata": {},
   "outputs": [],
   "source": [
    "import pandas as pd\n",
    "priorfile = pd.read_csv(\"Data/priorfile.csv\")\n",
    "df = pd.read_spss(\"Data/Leger_Royal Canadian Mint_data1.sav\")"
   ]
  },
  {
   "cell_type": "code",
   "execution_count": 68,
   "metadata": {},
   "outputs": [
    {
     "data": {
      "text/plain": [
       "[]"
      ]
     },
     "execution_count": 68,
     "metadata": {},
     "output_type": "execute_result"
    }
   ],
   "source": [
    "import pandas as pd\n",
    "import ast\n",
    "import numpy as np\n",
    "\n",
    "# Assuming priorfile is already defined and contains columns 'Source' and 'Target'\n",
    "df_priorfile = priorfile[[\"Source\", \"Target\"]]\n",
    "\n",
    "\n",
    "def check_columns_presence(df_priorfile, df, cols):\n",
    "    flat_list = []\n",
    "    for col in [cols[0], cols[1]]:\n",
    "        for item in df_priorfile[col]:\n",
    "            if pd.isna(item):\n",
    "                continue\n",
    "\n",
    "            # If it's a string starting with [ assume it may be a stringified list\n",
    "            if isinstance(item, str) and item.strip().startswith('['):\n",
    "                try:\n",
    "                    # Try parsing with literal_eval\n",
    "                    parsed = ast.literal_eval(item)\n",
    "                    if isinstance(parsed, list):\n",
    "                        flat_list.extend(parsed)\n",
    "                    else:\n",
    "                        flat_list.append(parsed)\n",
    "                except Exception:\n",
    "                    # Try manual cleanup (e.g., removing missing closing brackets)\n",
    "                    cleaned = item.strip().rstrip(']').lstrip('[').split(',')\n",
    "                    flat_list.extend([x.strip().strip(\"'\").strip('\"') for x in cleaned])\n",
    "            elif isinstance(item, list):\n",
    "                # Actual list\n",
    "                flat_list.extend(item)\n",
    "            else:\n",
    "                # Plain string or other type\n",
    "                flat_list.append(str(item))\n",
    "\n",
    "        return list(set(flat_list) - set(df.columns))\n",
    "\n",
    "check_columns_presence(df_priorfile, df, [\"Source\", \"Target\"])"
   ]
  },
  {
   "cell_type": "code",
   "execution_count": null,
   "metadata": {},
   "outputs": [],
   "source": []
  }
 ],
 "metadata": {
  "kernelspec": {
   "display_name": "Python 3",
   "language": "python",
   "name": "python3"
  },
  "language_info": {
   "codemirror_mode": {
    "name": "ipython",
    "version": 3
   },
   "file_extension": ".py",
   "mimetype": "text/x-python",
   "name": "python",
   "nbconvert_exporter": "python",
   "pygments_lexer": "ipython3",
   "version": "3.9.6"
  }
 },
 "nbformat": 4,
 "nbformat_minor": 2
}
