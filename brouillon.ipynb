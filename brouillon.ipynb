{
 "cells": [
  {
   "cell_type": "code",
   "execution_count": 74,
   "metadata": {},
   "outputs": [],
   "source": [
    "import pandas as pd\n",
    "priorfile = pd.read_csv(\"Data/LGBTQ 1c9ad92c6e10816683e8fafe77895eac_all.csv\")\n",
    "df = pd.read_spss(\"Data/BVA_LGBTQ_data_train.sav\")"
   ]
  },
  {
   "cell_type": "code",
   "execution_count": null,
   "metadata": {},
   "outputs": [],
   "source": [
    "def check_columns_presence(df_priorfile, df, cols):\n",
    "    flat_list = []\n",
    "\n",
    "    for col in cols:\n",
    "        for item in df_priorfile[col]:\n",
    "            if pd.isna(item):\n",
    "                continue\n",
    "\n",
    "            # Handle stringified lists\n",
    "            if isinstance(item, str) and item.strip().startswith('['):\n",
    "                try:\n",
    "                    parsed = ast.literal_eval(item)\n",
    "                    if isinstance(parsed, list):\n",
    "                        flat_list.extend(parsed)\n",
    "                    else:\n",
    "                        flat_list.append(parsed)\n",
    "                except Exception:\n",
    "                    cleaned = item.strip().rstrip(']').lstrip('[').split(',')\n",
    "                    flat_list.extend([x.strip().strip(\"'\").strip('\"') for x in cleaned])\n",
    "\n",
    "            elif isinstance(item, list):\n",
    "                flat_list.extend(item)\n",
    "            else:\n",
    "                flat_list.append(str(item))\n",
    "\n",
    "    flat_set = set(col.strip().lower() for col in flat_list)\n",
    "    df_columns = set(col.strip().lower() for col in df.columns)\n",
    "    missing = flat_set - df_columns\n",
    "\n",
    "    return list(missing)"
   ]
  },
  {
   "cell_type": "code",
   "execution_count": 80,
   "metadata": {},
   "outputs": [
    {
     "data": {
      "text/plain": [
       "[]"
      ]
     },
     "execution_count": 80,
     "metadata": {},
     "output_type": "execute_result"
    }
   ],
   "source": [
    "check_columns_presence(priorfile, df, [\"Source\", \"Target\"])"
   ]
  },
  {
   "cell_type": "code",
   "execution_count": null,
   "metadata": {},
   "outputs": [],
   "source": []
  },
  {
   "cell_type": "code",
   "execution_count": null,
   "metadata": {},
   "outputs": [],
   "source": []
  }
 ],
 "metadata": {
  "kernelspec": {
   "display_name": "Python 3",
   "language": "python",
   "name": "python3"
  },
  "language_info": {
   "codemirror_mode": {
    "name": "ipython",
    "version": 3
   },
   "file_extension": ".py",
   "mimetype": "text/x-python",
   "name": "python",
   "nbconvert_exporter": "python",
   "pygments_lexer": "ipython3",
   "version": "3.9.6"
  }
 },
 "nbformat": 4,
 "nbformat_minor": 2
}
